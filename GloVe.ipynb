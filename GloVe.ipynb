{
 "cells": [
  {
   "cell_type": "markdown",
   "metadata": {},
   "source": [
    "# GloVe Corpus\n",
    "\n",
    "Reference: https://nlp.stanford.edu/projects/glove/"
   ]
  },
  {
   "cell_type": "markdown",
   "metadata": {},
   "source": [
    "## Import Libraries"
   ]
  },
  {
   "cell_type": "code",
   "execution_count": 1,
   "metadata": {},
   "outputs": [],
   "source": [
    "import numpy as np\n",
    "import pandas as pd\n",
    "\n",
    "from nltk.tokenize import word_tokenize\n",
    "from sklearn.model_selection import train_test_split\n",
    "\n",
    "from utils.preprocess import getGloveCorpus\n",
    "from utils.utils import getVecForm\n",
    "from utils.models import simpleNN, simpleLSTM\n",
    "\n",
    "import tensorflow as tf"
   ]
  },
  {
   "cell_type": "code",
   "execution_count": 2,
   "metadata": {},
   "outputs": [],
   "source": [
    "PATH = './Datasets/'\n",
    "DIMS = 300\n",
    "PREPROCESS = 'glove'\n",
    "MAXVECLEN = 30"
   ]
  },
  {
   "cell_type": "markdown",
   "metadata": {},
   "source": [
    "## Read GloVe Data"
   ]
  },
  {
   "cell_type": "code",
   "execution_count": 3,
   "metadata": {},
   "outputs": [
    {
     "data": {
      "text/html": [
       "<div>\n",
       "<style scoped>\n",
       "    .dataframe tbody tr th:only-of-type {\n",
       "        vertical-align: middle;\n",
       "    }\n",
       "\n",
       "    .dataframe tbody tr th {\n",
       "        vertical-align: top;\n",
       "    }\n",
       "\n",
       "    .dataframe thead th {\n",
       "        text-align: right;\n",
       "    }\n",
       "</style>\n",
       "<table border=\"1\" class=\"dataframe\">\n",
       "  <thead>\n",
       "    <tr style=\"text-align: right;\">\n",
       "      <th></th>\n",
       "      <th>0</th>\n",
       "      <th>1</th>\n",
       "      <th>2</th>\n",
       "      <th>3</th>\n",
       "      <th>4</th>\n",
       "      <th>5</th>\n",
       "      <th>6</th>\n",
       "      <th>7</th>\n",
       "      <th>8</th>\n",
       "      <th>9</th>\n",
       "      <th>...</th>\n",
       "      <th>290</th>\n",
       "      <th>291</th>\n",
       "      <th>292</th>\n",
       "      <th>293</th>\n",
       "      <th>294</th>\n",
       "      <th>295</th>\n",
       "      <th>296</th>\n",
       "      <th>297</th>\n",
       "      <th>298</th>\n",
       "      <th>299</th>\n",
       "    </tr>\n",
       "  </thead>\n",
       "  <tbody>\n",
       "    <tr>\n",
       "      <th>the</th>\n",
       "      <td>0.046570</td>\n",
       "      <td>0.213135</td>\n",
       "      <td>-0.007435</td>\n",
       "      <td>-0.458496</td>\n",
       "      <td>-0.035645</td>\n",
       "      <td>0.236450</td>\n",
       "      <td>-0.288330</td>\n",
       "      <td>0.215210</td>\n",
       "      <td>-0.134888</td>\n",
       "      <td>-1.641602</td>\n",
       "      <td>...</td>\n",
       "      <td>-0.013062</td>\n",
       "      <td>-0.296875</td>\n",
       "      <td>-0.079895</td>\n",
       "      <td>0.194946</td>\n",
       "      <td>0.031555</td>\n",
       "      <td>0.285156</td>\n",
       "      <td>-0.087463</td>\n",
       "      <td>0.009064</td>\n",
       "      <td>-0.209839</td>\n",
       "      <td>0.053925</td>\n",
       "    </tr>\n",
       "    <tr>\n",
       "      <th>,</th>\n",
       "      <td>-0.255371</td>\n",
       "      <td>-0.257324</td>\n",
       "      <td>0.131714</td>\n",
       "      <td>-0.042694</td>\n",
       "      <td>0.218140</td>\n",
       "      <td>-0.022705</td>\n",
       "      <td>-0.178589</td>\n",
       "      <td>0.107544</td>\n",
       "      <td>0.058929</td>\n",
       "      <td>-1.385742</td>\n",
       "      <td>...</td>\n",
       "      <td>0.075989</td>\n",
       "      <td>-0.014359</td>\n",
       "      <td>-0.073792</td>\n",
       "      <td>0.221802</td>\n",
       "      <td>0.146484</td>\n",
       "      <td>0.566895</td>\n",
       "      <td>0.053314</td>\n",
       "      <td>-0.232910</td>\n",
       "      <td>-0.122253</td>\n",
       "      <td>0.354980</td>\n",
       "    </tr>\n",
       "    <tr>\n",
       "      <th>.</th>\n",
       "      <td>-0.125610</td>\n",
       "      <td>0.013634</td>\n",
       "      <td>0.103088</td>\n",
       "      <td>-0.101257</td>\n",
       "      <td>0.098145</td>\n",
       "      <td>0.136230</td>\n",
       "      <td>-0.107239</td>\n",
       "      <td>0.236938</td>\n",
       "      <td>0.328613</td>\n",
       "      <td>-1.678711</td>\n",
       "      <td>...</td>\n",
       "      <td>0.060150</td>\n",
       "      <td>-0.156250</td>\n",
       "      <td>-0.119507</td>\n",
       "      <td>0.234497</td>\n",
       "      <td>0.081360</td>\n",
       "      <td>0.246216</td>\n",
       "      <td>-0.152466</td>\n",
       "      <td>-0.342285</td>\n",
       "      <td>-0.022400</td>\n",
       "      <td>0.136841</td>\n",
       "    </tr>\n",
       "    <tr>\n",
       "      <th>of</th>\n",
       "      <td>-0.076965</td>\n",
       "      <td>-0.021210</td>\n",
       "      <td>0.212769</td>\n",
       "      <td>-0.722168</td>\n",
       "      <td>-0.139893</td>\n",
       "      <td>-0.122314</td>\n",
       "      <td>-0.175171</td>\n",
       "      <td>0.121399</td>\n",
       "      <td>-0.070862</td>\n",
       "      <td>-1.572266</td>\n",
       "      <td>...</td>\n",
       "      <td>-0.366699</td>\n",
       "      <td>-0.385986</td>\n",
       "      <td>0.302979</td>\n",
       "      <td>0.015747</td>\n",
       "      <td>0.340332</td>\n",
       "      <td>0.478516</td>\n",
       "      <td>0.068604</td>\n",
       "      <td>0.183472</td>\n",
       "      <td>-0.291748</td>\n",
       "      <td>-0.046539</td>\n",
       "    </tr>\n",
       "    <tr>\n",
       "      <th>to</th>\n",
       "      <td>-0.257568</td>\n",
       "      <td>-0.057129</td>\n",
       "      <td>-0.671875</td>\n",
       "      <td>-0.380859</td>\n",
       "      <td>-0.364258</td>\n",
       "      <td>-0.082153</td>\n",
       "      <td>-0.010956</td>\n",
       "      <td>-0.082031</td>\n",
       "      <td>0.460449</td>\n",
       "      <td>-1.847656</td>\n",
       "      <td>...</td>\n",
       "      <td>-0.012810</td>\n",
       "      <td>-0.597168</td>\n",
       "      <td>0.317383</td>\n",
       "      <td>-0.252686</td>\n",
       "      <td>0.543945</td>\n",
       "      <td>0.062988</td>\n",
       "      <td>-0.049805</td>\n",
       "      <td>-0.160400</td>\n",
       "      <td>0.046753</td>\n",
       "      <td>-0.070618</td>\n",
       "    </tr>\n",
       "    <tr>\n",
       "      <th>...</th>\n",
       "      <td>...</td>\n",
       "      <td>...</td>\n",
       "      <td>...</td>\n",
       "      <td>...</td>\n",
       "      <td>...</td>\n",
       "      <td>...</td>\n",
       "      <td>...</td>\n",
       "      <td>...</td>\n",
       "      <td>...</td>\n",
       "      <td>...</td>\n",
       "      <td>...</td>\n",
       "      <td>...</td>\n",
       "      <td>...</td>\n",
       "      <td>...</td>\n",
       "      <td>...</td>\n",
       "      <td>...</td>\n",
       "      <td>...</td>\n",
       "      <td>...</td>\n",
       "      <td>...</td>\n",
       "      <td>...</td>\n",
       "      <td>...</td>\n",
       "    </tr>\n",
       "    <tr>\n",
       "      <th>chanty</th>\n",
       "      <td>0.392578</td>\n",
       "      <td>-0.022507</td>\n",
       "      <td>0.304688</td>\n",
       "      <td>0.187988</td>\n",
       "      <td>0.141235</td>\n",
       "      <td>0.724121</td>\n",
       "      <td>-0.257812</td>\n",
       "      <td>-0.137329</td>\n",
       "      <td>-0.016525</td>\n",
       "      <td>0.596191</td>\n",
       "      <td>...</td>\n",
       "      <td>-0.182983</td>\n",
       "      <td>0.406738</td>\n",
       "      <td>-0.343750</td>\n",
       "      <td>-0.270508</td>\n",
       "      <td>-0.593750</td>\n",
       "      <td>0.016449</td>\n",
       "      <td>0.140747</td>\n",
       "      <td>0.463867</td>\n",
       "      <td>-0.369629</td>\n",
       "      <td>-0.287109</td>\n",
       "    </tr>\n",
       "    <tr>\n",
       "      <th>kronik</th>\n",
       "      <td>0.136841</td>\n",
       "      <td>-0.139038</td>\n",
       "      <td>-0.360840</td>\n",
       "      <td>0.079834</td>\n",
       "      <td>0.321533</td>\n",
       "      <td>0.263916</td>\n",
       "      <td>-0.109924</td>\n",
       "      <td>0.044434</td>\n",
       "      <td>0.083862</td>\n",
       "      <td>0.791504</td>\n",
       "      <td>...</td>\n",
       "      <td>0.036407</td>\n",
       "      <td>-0.036835</td>\n",
       "      <td>-0.348145</td>\n",
       "      <td>0.064758</td>\n",
       "      <td>-0.000577</td>\n",
       "      <td>-0.133789</td>\n",
       "      <td>0.428955</td>\n",
       "      <td>-0.023315</td>\n",
       "      <td>0.410156</td>\n",
       "      <td>-0.393066</td>\n",
       "    </tr>\n",
       "    <tr>\n",
       "      <th>rolonda</th>\n",
       "      <td>0.075684</td>\n",
       "      <td>-0.040497</td>\n",
       "      <td>0.183472</td>\n",
       "      <td>0.512207</td>\n",
       "      <td>-0.228516</td>\n",
       "      <td>0.838867</td>\n",
       "      <td>0.178833</td>\n",
       "      <td>-0.712891</td>\n",
       "      <td>0.326904</td>\n",
       "      <td>0.695312</td>\n",
       "      <td>...</td>\n",
       "      <td>-0.388428</td>\n",
       "      <td>0.545898</td>\n",
       "      <td>-0.035065</td>\n",
       "      <td>-0.184326</td>\n",
       "      <td>-0.197021</td>\n",
       "      <td>-0.350098</td>\n",
       "      <td>0.160645</td>\n",
       "      <td>0.218384</td>\n",
       "      <td>0.309570</td>\n",
       "      <td>0.437500</td>\n",
       "    </tr>\n",
       "    <tr>\n",
       "      <th>zsombor</th>\n",
       "      <td>0.814453</td>\n",
       "      <td>-0.362305</td>\n",
       "      <td>0.311768</td>\n",
       "      <td>0.813965</td>\n",
       "      <td>0.188477</td>\n",
       "      <td>-0.313721</td>\n",
       "      <td>0.827637</td>\n",
       "      <td>0.296631</td>\n",
       "      <td>-0.085510</td>\n",
       "      <td>0.476074</td>\n",
       "      <td>...</td>\n",
       "      <td>0.130859</td>\n",
       "      <td>0.106140</td>\n",
       "      <td>-0.408203</td>\n",
       "      <td>0.313477</td>\n",
       "      <td>-0.430176</td>\n",
       "      <td>0.069824</td>\n",
       "      <td>-0.207642</td>\n",
       "      <td>0.075500</td>\n",
       "      <td>0.284180</td>\n",
       "      <td>-0.175537</td>\n",
       "    </tr>\n",
       "    <tr>\n",
       "      <th>sandberger</th>\n",
       "      <td>0.429199</td>\n",
       "      <td>-0.296875</td>\n",
       "      <td>0.150146</td>\n",
       "      <td>0.245239</td>\n",
       "      <td>-0.003521</td>\n",
       "      <td>-0.057709</td>\n",
       "      <td>0.140869</td>\n",
       "      <td>-0.222290</td>\n",
       "      <td>0.221191</td>\n",
       "      <td>0.767090</td>\n",
       "      <td>...</td>\n",
       "      <td>0.128174</td>\n",
       "      <td>0.097534</td>\n",
       "      <td>-0.130981</td>\n",
       "      <td>-0.142822</td>\n",
       "      <td>-0.175415</td>\n",
       "      <td>-0.168945</td>\n",
       "      <td>-0.022507</td>\n",
       "      <td>0.289795</td>\n",
       "      <td>0.326172</td>\n",
       "      <td>-0.059052</td>\n",
       "    </tr>\n",
       "  </tbody>\n",
       "</table>\n",
       "<p>399883 rows × 300 columns</p>\n",
       "</div>"
      ],
      "text/plain": [
       "                 0         1         2         3         4         5    \\\n",
       "the         0.046570  0.213135 -0.007435 -0.458496 -0.035645  0.236450   \n",
       ",          -0.255371 -0.257324  0.131714 -0.042694  0.218140 -0.022705   \n",
       ".          -0.125610  0.013634  0.103088 -0.101257  0.098145  0.136230   \n",
       "of         -0.076965 -0.021210  0.212769 -0.722168 -0.139893 -0.122314   \n",
       "to         -0.257568 -0.057129 -0.671875 -0.380859 -0.364258 -0.082153   \n",
       "...              ...       ...       ...       ...       ...       ...   \n",
       "chanty      0.392578 -0.022507  0.304688  0.187988  0.141235  0.724121   \n",
       "kronik      0.136841 -0.139038 -0.360840  0.079834  0.321533  0.263916   \n",
       "rolonda     0.075684 -0.040497  0.183472  0.512207 -0.228516  0.838867   \n",
       "zsombor     0.814453 -0.362305  0.311768  0.813965  0.188477 -0.313721   \n",
       "sandberger  0.429199 -0.296875  0.150146  0.245239 -0.003521 -0.057709   \n",
       "\n",
       "                 6         7         8         9    ...       290       291  \\\n",
       "the        -0.288330  0.215210 -0.134888 -1.641602  ... -0.013062 -0.296875   \n",
       ",          -0.178589  0.107544  0.058929 -1.385742  ...  0.075989 -0.014359   \n",
       ".          -0.107239  0.236938  0.328613 -1.678711  ...  0.060150 -0.156250   \n",
       "of         -0.175171  0.121399 -0.070862 -1.572266  ... -0.366699 -0.385986   \n",
       "to         -0.010956 -0.082031  0.460449 -1.847656  ... -0.012810 -0.597168   \n",
       "...              ...       ...       ...       ...  ...       ...       ...   \n",
       "chanty     -0.257812 -0.137329 -0.016525  0.596191  ... -0.182983  0.406738   \n",
       "kronik     -0.109924  0.044434  0.083862  0.791504  ...  0.036407 -0.036835   \n",
       "rolonda     0.178833 -0.712891  0.326904  0.695312  ... -0.388428  0.545898   \n",
       "zsombor     0.827637  0.296631 -0.085510  0.476074  ...  0.130859  0.106140   \n",
       "sandberger  0.140869 -0.222290  0.221191  0.767090  ...  0.128174  0.097534   \n",
       "\n",
       "                 292       293       294       295       296       297  \\\n",
       "the        -0.079895  0.194946  0.031555  0.285156 -0.087463  0.009064   \n",
       ",          -0.073792  0.221802  0.146484  0.566895  0.053314 -0.232910   \n",
       ".          -0.119507  0.234497  0.081360  0.246216 -0.152466 -0.342285   \n",
       "of          0.302979  0.015747  0.340332  0.478516  0.068604  0.183472   \n",
       "to          0.317383 -0.252686  0.543945  0.062988 -0.049805 -0.160400   \n",
       "...              ...       ...       ...       ...       ...       ...   \n",
       "chanty     -0.343750 -0.270508 -0.593750  0.016449  0.140747  0.463867   \n",
       "kronik     -0.348145  0.064758 -0.000577 -0.133789  0.428955 -0.023315   \n",
       "rolonda    -0.035065 -0.184326 -0.197021 -0.350098  0.160645  0.218384   \n",
       "zsombor    -0.408203  0.313477 -0.430176  0.069824 -0.207642  0.075500   \n",
       "sandberger -0.130981 -0.142822 -0.175415 -0.168945 -0.022507  0.289795   \n",
       "\n",
       "                 298       299  \n",
       "the        -0.209839  0.053925  \n",
       ",          -0.122253  0.354980  \n",
       ".          -0.022400  0.136841  \n",
       "of         -0.291748 -0.046539  \n",
       "to          0.046753 -0.070618  \n",
       "...              ...       ...  \n",
       "chanty     -0.369629 -0.287109  \n",
       "kronik      0.410156 -0.393066  \n",
       "rolonda     0.309570  0.437500  \n",
       "zsombor     0.284180 -0.175537  \n",
       "sandberger  0.326172 -0.059052  \n",
       "\n",
       "[399883 rows x 300 columns]"
      ]
     },
     "execution_count": 3,
     "metadata": {},
     "output_type": "execute_result"
    }
   ],
   "source": [
    "VEC = getGloveCorpus(dims=DIMS)\n",
    "VEC"
   ]
  },
  {
   "cell_type": "markdown",
   "metadata": {},
   "source": [
    "## Import Dataset"
   ]
  },
  {
   "cell_type": "code",
   "execution_count": 4,
   "metadata": {},
   "outputs": [
    {
     "data": {
      "text/html": [
       "<div>\n",
       "<style scoped>\n",
       "    .dataframe tbody tr th:only-of-type {\n",
       "        vertical-align: middle;\n",
       "    }\n",
       "\n",
       "    .dataframe tbody tr th {\n",
       "        vertical-align: top;\n",
       "    }\n",
       "\n",
       "    .dataframe thead th {\n",
       "        text-align: right;\n",
       "    }\n",
       "</style>\n",
       "<table border=\"1\" class=\"dataframe\">\n",
       "  <thead>\n",
       "    <tr style=\"text-align: right;\">\n",
       "      <th></th>\n",
       "      <th>headline</th>\n",
       "      <th>is_sarcastic</th>\n",
       "    </tr>\n",
       "  </thead>\n",
       "  <tbody>\n",
       "    <tr>\n",
       "      <th>0</th>\n",
       "      <td>versace store clerk sue secret black code mino...</td>\n",
       "      <td>0</td>\n",
       "    </tr>\n",
       "    <tr>\n",
       "      <th>1</th>\n",
       "      <td>roseanne revival catch thorny political mood w...</td>\n",
       "      <td>0</td>\n",
       "    </tr>\n",
       "    <tr>\n",
       "      <th>2</th>\n",
       "      <td>mom start fear son web series close thing gran...</td>\n",
       "      <td>1</td>\n",
       "    </tr>\n",
       "    <tr>\n",
       "      <th>3</th>\n",
       "      <td>boehner want wife listen come alternative debt...</td>\n",
       "      <td>1</td>\n",
       "    </tr>\n",
       "    <tr>\n",
       "      <th>4</th>\n",
       "      <td>rowling wish snape happy birthday magical way</td>\n",
       "      <td>0</td>\n",
       "    </tr>\n",
       "    <tr>\n",
       "      <th>...</th>\n",
       "      <td>...</td>\n",
       "      <td>...</td>\n",
       "    </tr>\n",
       "    <tr>\n",
       "      <th>28608</th>\n",
       "      <td>tyson hold contest let fan submit new idea tor...</td>\n",
       "      <td>1</td>\n",
       "    </tr>\n",
       "    <tr>\n",
       "      <th>28609</th>\n",
       "      <td>increasingly cocky bernie sander announce will...</td>\n",
       "      <td>1</td>\n",
       "    </tr>\n",
       "    <tr>\n",
       "      <th>28610</th>\n",
       "      <td>cash strap zuckerberg force sell million faceb...</td>\n",
       "      <td>1</td>\n",
       "    </tr>\n",
       "    <tr>\n",
       "      <th>28611</th>\n",
       "      <td>grocery store bar actually great little happy ...</td>\n",
       "      <td>1</td>\n",
       "    </tr>\n",
       "    <tr>\n",
       "      <th>28612</th>\n",
       "      <td>study marathon spectator attend sick thrill wa...</td>\n",
       "      <td>1</td>\n",
       "    </tr>\n",
       "  </tbody>\n",
       "</table>\n",
       "<p>28613 rows × 2 columns</p>\n",
       "</div>"
      ],
      "text/plain": [
       "                                                headline  is_sarcastic\n",
       "0      versace store clerk sue secret black code mino...             0\n",
       "1      roseanne revival catch thorny political mood w...             0\n",
       "2      mom start fear son web series close thing gran...             1\n",
       "3      boehner want wife listen come alternative debt...             1\n",
       "4          rowling wish snape happy birthday magical way             0\n",
       "...                                                  ...           ...\n",
       "28608  tyson hold contest let fan submit new idea tor...             1\n",
       "28609  increasingly cocky bernie sander announce will...             1\n",
       "28610  cash strap zuckerberg force sell million faceb...             1\n",
       "28611  grocery store bar actually great little happy ...             1\n",
       "28612  study marathon spectator attend sick thrill wa...             1\n",
       "\n",
       "[28613 rows x 2 columns]"
      ]
     },
     "execution_count": 4,
     "metadata": {},
     "output_type": "execute_result"
    }
   ],
   "source": [
    "df = pd.read_csv(PATH+'Sarcasm_Headlines_Detection.csv').dropna().reset_index(drop=True)\n",
    "df"
   ]
  },
  {
   "cell_type": "markdown",
   "metadata": {},
   "source": [
    "### Remove excessively long texts"
   ]
  },
  {
   "cell_type": "code",
   "execution_count": 5,
   "metadata": {},
   "outputs": [
    {
     "data": {
      "text/html": [
       "<div>\n",
       "<style scoped>\n",
       "    .dataframe tbody tr th:only-of-type {\n",
       "        vertical-align: middle;\n",
       "    }\n",
       "\n",
       "    .dataframe tbody tr th {\n",
       "        vertical-align: top;\n",
       "    }\n",
       "\n",
       "    .dataframe thead th {\n",
       "        text-align: right;\n",
       "    }\n",
       "</style>\n",
       "<table border=\"1\" class=\"dataframe\">\n",
       "  <thead>\n",
       "    <tr style=\"text-align: right;\">\n",
       "      <th></th>\n",
       "      <th>headline</th>\n",
       "      <th>is_sarcastic</th>\n",
       "    </tr>\n",
       "  </thead>\n",
       "  <tbody>\n",
       "    <tr>\n",
       "      <th>0</th>\n",
       "      <td>versace store clerk sue secret black code mino...</td>\n",
       "      <td>0</td>\n",
       "    </tr>\n",
       "    <tr>\n",
       "      <th>1</th>\n",
       "      <td>roseanne revival catch thorny political mood w...</td>\n",
       "      <td>0</td>\n",
       "    </tr>\n",
       "    <tr>\n",
       "      <th>2</th>\n",
       "      <td>mom start fear son web series close thing gran...</td>\n",
       "      <td>1</td>\n",
       "    </tr>\n",
       "    <tr>\n",
       "      <th>3</th>\n",
       "      <td>boehner want wife listen come alternative debt...</td>\n",
       "      <td>1</td>\n",
       "    </tr>\n",
       "    <tr>\n",
       "      <th>4</th>\n",
       "      <td>rowling wish snape happy birthday magical way</td>\n",
       "      <td>0</td>\n",
       "    </tr>\n",
       "    <tr>\n",
       "      <th>...</th>\n",
       "      <td>...</td>\n",
       "      <td>...</td>\n",
       "    </tr>\n",
       "    <tr>\n",
       "      <th>28607</th>\n",
       "      <td>tyson hold contest let fan submit new idea tor...</td>\n",
       "      <td>1</td>\n",
       "    </tr>\n",
       "    <tr>\n",
       "      <th>28608</th>\n",
       "      <td>increasingly cocky bernie sander announce will...</td>\n",
       "      <td>1</td>\n",
       "    </tr>\n",
       "    <tr>\n",
       "      <th>28609</th>\n",
       "      <td>cash strap zuckerberg force sell million faceb...</td>\n",
       "      <td>1</td>\n",
       "    </tr>\n",
       "    <tr>\n",
       "      <th>28610</th>\n",
       "      <td>grocery store bar actually great little happy ...</td>\n",
       "      <td>1</td>\n",
       "    </tr>\n",
       "    <tr>\n",
       "      <th>28611</th>\n",
       "      <td>study marathon spectator attend sick thrill wa...</td>\n",
       "      <td>1</td>\n",
       "    </tr>\n",
       "  </tbody>\n",
       "</table>\n",
       "<p>28612 rows × 2 columns</p>\n",
       "</div>"
      ],
      "text/plain": [
       "                                                headline  is_sarcastic\n",
       "0      versace store clerk sue secret black code mino...             0\n",
       "1      roseanne revival catch thorny political mood w...             0\n",
       "2      mom start fear son web series close thing gran...             1\n",
       "3      boehner want wife listen come alternative debt...             1\n",
       "4          rowling wish snape happy birthday magical way             0\n",
       "...                                                  ...           ...\n",
       "28607  tyson hold contest let fan submit new idea tor...             1\n",
       "28608  increasingly cocky bernie sander announce will...             1\n",
       "28609  cash strap zuckerberg force sell million faceb...             1\n",
       "28610  grocery store bar actually great little happy ...             1\n",
       "28611  study marathon spectator attend sick thrill wa...             1\n",
       "\n",
       "[28612 rows x 2 columns]"
      ]
     },
     "execution_count": 5,
     "metadata": {},
     "output_type": "execute_result"
    }
   ],
   "source": [
    "tooLong = []\n",
    "for i in range(len(df['headline'])):\n",
    "    if len(df['headline'][i].split()) > MAXVECLEN:\n",
    "        tooLong.append(i)\n",
    "for i in tooLong:\n",
    "    df = df.drop(i, axis=0).reset_index(drop=True)\n",
    "df"
   ]
  },
  {
   "cell_type": "code",
   "execution_count": 6,
   "metadata": {},
   "outputs": [],
   "source": [
    "X_, Y_ = df['headline'], df['is_sarcastic']"
   ]
  },
  {
   "cell_type": "markdown",
   "metadata": {},
   "source": [
    "## Simple NN"
   ]
  },
  {
   "cell_type": "markdown",
   "metadata": {},
   "source": [
    "### Convert dataset into Word Vector"
   ]
  },
  {
   "cell_type": "code",
   "execution_count": 7,
   "metadata": {},
   "outputs": [],
   "source": [
    "X, Y = getVecForm(\n",
    "    X = X_,\n",
    "    Y = Y_,\n",
    "    vec = VEC,\n",
    "    dims=DIMS,\n",
    "    preprocess=PREPROCESS,\n",
    "    vectype='sum',\n",
    ")"
   ]
  },
  {
   "cell_type": "code",
   "execution_count": 8,
   "metadata": {},
   "outputs": [
    {
     "data": {
      "text/plain": [
       "(28612, 300)"
      ]
     },
     "execution_count": 8,
     "metadata": {},
     "output_type": "execute_result"
    }
   ],
   "source": [
    "X.shape"
   ]
  },
  {
   "cell_type": "code",
   "execution_count": 9,
   "metadata": {},
   "outputs": [],
   "source": [
    "x_train, x_test, y_train, y_test = train_test_split(X, Y)"
   ]
  },
  {
   "cell_type": "markdown",
   "metadata": {},
   "source": [
    "### Training a Simple NN"
   ]
  },
  {
   "cell_type": "code",
   "execution_count": 10,
   "metadata": {},
   "outputs": [
    {
     "name": "stdout",
     "output_type": "stream",
     "text": [
      "Epoch 1/5\n",
      "470/470 [==============================] - 2s 3ms/step - loss: 0.6159 - accuracy: 0.6773 - val_loss: 0.5635 - val_accuracy: 0.7196\n",
      "Epoch 2/5\n",
      "470/470 [==============================] - 1s 3ms/step - loss: 0.5245 - accuracy: 0.7434 - val_loss: 0.5331 - val_accuracy: 0.7400\n",
      "Epoch 3/5\n",
      "470/470 [==============================] - 1s 3ms/step - loss: 0.4855 - accuracy: 0.7696 - val_loss: 0.5218 - val_accuracy: 0.7406\n",
      "Epoch 4/5\n",
      "470/470 [==============================] - 1s 3ms/step - loss: 0.4470 - accuracy: 0.7921 - val_loss: 0.5269 - val_accuracy: 0.7411\n",
      "Epoch 5/5\n",
      "470/470 [==============================] - 1s 3ms/step - loss: 0.4184 - accuracy: 0.8099 - val_loss: 0.5338 - val_accuracy: 0.7479\n"
     ]
    },
    {
     "data": {
      "text/plain": [
       "<tensorflow.python.keras.callbacks.History at 0x1c1f2c31a60>"
      ]
     },
     "execution_count": 10,
     "metadata": {},
     "output_type": "execute_result"
    }
   ],
   "source": [
    "snn = simpleNN(X)\n",
    "snn.fit(x_train, y_train, validation_split=0.3, epochs=5)"
   ]
  },
  {
   "cell_type": "code",
   "execution_count": 11,
   "metadata": {
    "scrolled": true
   },
   "outputs": [
    {
     "name": "stdout",
     "output_type": "stream",
     "text": [
      "224/224 [==============================] - 0s 1ms/step - loss: 0.5218 - accuracy: 0.7562\n"
     ]
    },
    {
     "data": {
      "text/plain": [
       "[0.5218070149421692, 0.7561861872673035]"
      ]
     },
     "execution_count": 11,
     "metadata": {},
     "output_type": "execute_result"
    }
   ],
   "source": [
    "snn.evaluate(x_test, y_test)"
   ]
  },
  {
   "cell_type": "markdown",
   "metadata": {},
   "source": [
    "## Simple LSTM (sum)"
   ]
  },
  {
   "cell_type": "markdown",
   "metadata": {},
   "source": [
    "### Convert dataset into Word Vector"
   ]
  },
  {
   "cell_type": "code",
   "execution_count": 12,
   "metadata": {},
   "outputs": [],
   "source": [
    "X, Y = getVecForm(\n",
    "    X = X_,\n",
    "    Y = Y_,\n",
    "    vec = VEC,\n",
    "    dims=DIMS,\n",
    "    preprocess=PREPROCESS,\n",
    "    vectype='sum',\n",
    "    reshaping=(X.shape[0], 1, X.shape[1])\n",
    ")"
   ]
  },
  {
   "cell_type": "code",
   "execution_count": 13,
   "metadata": {},
   "outputs": [
    {
     "data": {
      "text/plain": [
       "(28612, 1, 300)"
      ]
     },
     "execution_count": 13,
     "metadata": {},
     "output_type": "execute_result"
    }
   ],
   "source": [
    "X.shape"
   ]
  },
  {
   "cell_type": "code",
   "execution_count": 14,
   "metadata": {},
   "outputs": [],
   "source": [
    "x_train, x_test, y_train, y_test = train_test_split(X, Y)"
   ]
  },
  {
   "cell_type": "markdown",
   "metadata": {},
   "source": [
    "### Training a Simple LSTM"
   ]
  },
  {
   "cell_type": "code",
   "execution_count": 15,
   "metadata": {},
   "outputs": [
    {
     "name": "stdout",
     "output_type": "stream",
     "text": [
      "Epoch 1/10\n",
      "470/470 [==============================] - 4s 4ms/step - loss: 0.6339 - accuracy: 0.6454 - val_loss: 0.5847 - val_accuracy: 0.6987\n",
      "Epoch 2/10\n",
      "470/470 [==============================] - 2s 3ms/step - loss: 0.5643 - accuracy: 0.7157 - val_loss: 0.5597 - val_accuracy: 0.7198\n",
      "Epoch 3/10\n",
      "470/470 [==============================] - 2s 3ms/step - loss: 0.5343 - accuracy: 0.7386 - val_loss: 0.5456 - val_accuracy: 0.7290\n",
      "Epoch 4/10\n",
      "470/470 [==============================] - 2s 3ms/step - loss: 0.5137 - accuracy: 0.7537 - val_loss: 0.5388 - val_accuracy: 0.7347\n",
      "Epoch 5/10\n",
      "470/470 [==============================] - 2s 3ms/step - loss: 0.4972 - accuracy: 0.7608 - val_loss: 0.5334 - val_accuracy: 0.7377\n",
      "Epoch 6/10\n",
      "470/470 [==============================] - 2s 3ms/step - loss: 0.4822 - accuracy: 0.7725 - val_loss: 0.5315 - val_accuracy: 0.7401\n",
      "Epoch 7/10\n",
      "470/470 [==============================] - 2s 3ms/step - loss: 0.4696 - accuracy: 0.7812 - val_loss: 0.5308 - val_accuracy: 0.7417\n",
      "Epoch 8/10\n",
      "470/470 [==============================] - 2s 3ms/step - loss: 0.4573 - accuracy: 0.7862 - val_loss: 0.5281 - val_accuracy: 0.7383\n",
      "Epoch 9/10\n",
      "470/470 [==============================] - 2s 3ms/step - loss: 0.4452 - accuracy: 0.7963 - val_loss: 0.5299 - val_accuracy: 0.7398\n",
      "Epoch 10/10\n",
      "470/470 [==============================] - 2s 3ms/step - loss: 0.4343 - accuracy: 0.7997 - val_loss: 0.5282 - val_accuracy: 0.7401\n"
     ]
    },
    {
     "data": {
      "text/plain": [
       "<tensorflow.python.keras.callbacks.History at 0x1c20c5567f0>"
      ]
     },
     "execution_count": 15,
     "metadata": {},
     "output_type": "execute_result"
    }
   ],
   "source": [
    "lstms = simpleLSTM(X)\n",
    "lstms.fit(x_train, y_train, validation_split=0.3, epochs=10)"
   ]
  },
  {
   "cell_type": "code",
   "execution_count": 16,
   "metadata": {},
   "outputs": [
    {
     "name": "stdout",
     "output_type": "stream",
     "text": [
      "224/224 [==============================] - 0s 1ms/step - loss: 0.5419 - accuracy: 0.7282\n"
     ]
    },
    {
     "data": {
      "text/plain": [
       "[0.5419329404830933, 0.7282259464263916]"
      ]
     },
     "execution_count": 16,
     "metadata": {},
     "output_type": "execute_result"
    }
   ],
   "source": [
    "lstms.evaluate(x_test, y_test)"
   ]
  },
  {
   "cell_type": "markdown",
   "metadata": {},
   "source": [
    "## Simple LSTM (vector)"
   ]
  },
  {
   "cell_type": "markdown",
   "metadata": {},
   "source": [
    "### Convert dataset into Word Vector"
   ]
  },
  {
   "cell_type": "code",
   "execution_count": 17,
   "metadata": {},
   "outputs": [],
   "source": [
    "X, Y = getVecForm(\n",
    "    X = X_,\n",
    "    Y = Y_,\n",
    "    vec = VEC,\n",
    "    dims=DIMS,\n",
    "    preprocess=PREPROCESS,\n",
    "    vectype='vector',\n",
    "    MaxvecLen=MAXVECLEN\n",
    ")"
   ]
  },
  {
   "cell_type": "code",
   "execution_count": 18,
   "metadata": {},
   "outputs": [
    {
     "data": {
      "text/plain": [
       "(28612, 30, 300)"
      ]
     },
     "execution_count": 18,
     "metadata": {},
     "output_type": "execute_result"
    }
   ],
   "source": [
    "X.shape"
   ]
  },
  {
   "cell_type": "code",
   "execution_count": 19,
   "metadata": {},
   "outputs": [],
   "source": [
    "x_train, x_test, y_train, y_test = train_test_split(X, Y)"
   ]
  },
  {
   "cell_type": "markdown",
   "metadata": {},
   "source": [
    "### Training a Simple LSTM"
   ]
  },
  {
   "cell_type": "code",
   "execution_count": 20,
   "metadata": {},
   "outputs": [
    {
     "name": "stdout",
     "output_type": "stream",
     "text": [
      "Epoch 1/10\n",
      "470/470 [==============================] - 5s 7ms/step - loss: 0.6255 - accuracy: 0.6725 - val_loss: 0.5920 - val_accuracy: 0.7067\n",
      "Epoch 2/10\n",
      "470/470 [==============================] - 3s 6ms/step - loss: 0.5452 - accuracy: 0.7443 - val_loss: 0.5576 - val_accuracy: 0.7316\n",
      "Epoch 3/10\n",
      "470/470 [==============================] - 3s 6ms/step - loss: 0.5089 - accuracy: 0.7724 - val_loss: 0.5415 - val_accuracy: 0.7417\n",
      "Epoch 4/10\n",
      "470/470 [==============================] - 3s 6ms/step - loss: 0.4825 - accuracy: 0.7900 - val_loss: 0.5319 - val_accuracy: 0.7460\n",
      "Epoch 5/10\n",
      "470/470 [==============================] - 3s 6ms/step - loss: 0.4596 - accuracy: 0.8041 - val_loss: 0.5230 - val_accuracy: 0.7578\n",
      "Epoch 6/10\n",
      "470/470 [==============================] - 3s 6ms/step - loss: 0.4407 - accuracy: 0.8166 - val_loss: 0.5288 - val_accuracy: 0.7560\n",
      "Epoch 7/10\n",
      "470/470 [==============================] - 3s 6ms/step - loss: 0.4223 - accuracy: 0.8277 - val_loss: 0.5165 - val_accuracy: 0.7656\n",
      "Epoch 8/10\n",
      "470/470 [==============================] - 3s 6ms/step - loss: 0.4063 - accuracy: 0.8379 - val_loss: 0.5161 - val_accuracy: 0.7648\n",
      "Epoch 9/10\n",
      "470/470 [==============================] - 3s 6ms/step - loss: 0.3936 - accuracy: 0.8465 - val_loss: 0.5231 - val_accuracy: 0.7672\n",
      "Epoch 10/10\n",
      "470/470 [==============================] - 3s 6ms/step - loss: 0.3808 - accuracy: 0.8543 - val_loss: 0.5250 - val_accuracy: 0.7698\n"
     ]
    },
    {
     "data": {
      "text/plain": [
       "<tensorflow.python.keras.callbacks.History at 0x1c1862d0820>"
      ]
     },
     "execution_count": 20,
     "metadata": {},
     "output_type": "execute_result"
    }
   ],
   "source": [
    "lstmv = simpleLSTM(X)\n",
    "lstmv.fit(x_train, y_train, validation_split=0.3, epochs=10)"
   ]
  },
  {
   "cell_type": "code",
   "execution_count": 21,
   "metadata": {},
   "outputs": [
    {
     "name": "stdout",
     "output_type": "stream",
     "text": [
      "224/224 [==============================] - 1s 3ms/step - loss: 0.5273 - accuracy: 0.7686\n"
     ]
    },
    {
     "data": {
      "text/plain": [
       "[0.5272580981254578, 0.7686285376548767]"
      ]
     },
     "execution_count": 21,
     "metadata": {},
     "output_type": "execute_result"
    }
   ],
   "source": [
    "lstmv.evaluate(x_test, y_test)"
   ]
  },
  {
   "cell_type": "code",
   "execution_count": null,
   "metadata": {},
   "outputs": [],
   "source": []
  }
 ],
 "metadata": {
  "kernelspec": {
   "display_name": "Python 3",
   "language": "python",
   "name": "python3"
  },
  "language_info": {
   "codemirror_mode": {
    "name": "ipython",
    "version": 3
   },
   "file_extension": ".py",
   "mimetype": "text/x-python",
   "name": "python",
   "nbconvert_exporter": "python",
   "pygments_lexer": "ipython3",
   "version": "3.8.5"
  }
 },
 "nbformat": 4,
 "nbformat_minor": 4
}
